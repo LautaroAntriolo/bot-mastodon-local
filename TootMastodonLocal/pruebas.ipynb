{
 "cells": [
  {
   "cell_type": "code",
   "execution_count": 137,
   "metadata": {},
   "outputs": [],
   "source": [
    "import datetime\n",
    "import os\n",
    "import json\n",
    "import random\n",
    "date_string = str(datetime.date.today())\n",
    "fecha = datetime.datetime.strptime(date_string, '%Y-%m-%d')\n",
    "semanaNumero = fecha.isocalendar()[1]\n",
    "\n",
    "def registroImagenes(semanaNumero,nombreImagen):\n",
    "    # nombreImagen = str(nombreImagen)\n",
    "    if os.path.exists('C:/Lautaro/Python-personal/Mastodon/TootMastodonLocal/registro.json'):\n",
    "        with open('C:/Lautaro/Python-personal/Mastodon/TootMastodonLocal/registro.json','r') as f:\n",
    "                data = json.load(f)\n",
    "                if f'semana {semanaNumero}' in data:\n",
    "                    # La clave está en el archivo JSON\n",
    "                    data[f'semana {semanaNumero}'].append(nombreImagen)\n",
    "                else:\n",
    "                    # La clave NO está en el archivo JSON\n",
    "                    print(\"Entramos acá ehhhh \")\n",
    "                    data[f'semana {semanaNumero}'] = []\n",
    "                    data[f'semana {semanaNumero}'].append(nombreImagen)\n",
    "        with open('C:/Lautaro/Python-personal/Mastodon/TootMastodonLocal/registro.json', 'w') as f:\n",
    "            json.dump(data, f)\n",
    "    else:\n",
    "        data = {}\n",
    "        with open('C:/Lautaro/Python-personal/Mastodon/TootMastodonLocal/registro.json', 'w') as f: \n",
    "            data[f'semana {semanaNumero}'] = [nombreImagen]\n",
    "            json.dump(data, f)\n",
    "\n",
    "registroImagenes(semanaNumero,random.randint(50,100))"
   ]
  },
  {
   "cell_type": "code",
   "execution_count": 32,
   "metadata": {},
   "outputs": [],
   "source": [
    "import os\n",
    "import json\n",
    "if os.path.exists('C:/Lautaro/Python-personal/Mastodon/TootMastodonLocal/registro.json'):\n",
    "    print(\"el archivo existe\")\n",
    "else:\n",
    "    data = {}\n",
    "    with open('C:/Lautaro/Python-personal/Mastodon/TootMastodonLocal/registro.json', 'w') as f:\n",
    "        json.dump(data, f)"
   ]
  },
  {
   "cell_type": "code",
   "execution_count": 4,
   "metadata": {},
   "outputs": [
    {
     "name": "stdout",
     "output_type": "stream",
     "text": [
      "Hay 4 imágenes en la carpeta.\n"
     ]
    }
   ],
   "source": [
    "import os\n",
    "\n",
    "carpeta = 'C:\\Lautaro\\Python-personal\\Mastodon\\TootMastodonLocal\\img\\Martes'\n",
    "extensiones_permitidas = ('.jpg', '.jpeg', '.png', '.gif')\n",
    "\n",
    "cantidad_imagenes = len([nombre_archivo for nombre_archivo in os.listdir(carpeta)\n",
    "                        if nombre_archivo.endswith(extensiones_permitidas)])\n",
    "\n",
    "print(f'Hay {cantidad_imagenes} imágenes en la carpeta.')"
   ]
  },
  {
   "cell_type": "code",
   "execution_count": 5,
   "metadata": {},
   "outputs": [
    {
     "name": "stdout",
     "output_type": "stream",
     "text": [
      "Los nombres de los archivos en la carpeta son: ['martes1.jpg', 'martes2.jpg', 'martes3.jpg', 'martes4.jpeg']\n"
     ]
    }
   ],
   "source": [
    "import os\n",
    "\n",
    "carpeta = 'C:\\Lautaro\\Python-personal\\Mastodon\\TootMastodonLocal\\img\\Martes'\n",
    "\n",
    "nombres_archivos = os.listdir(carpeta)\n",
    "\n",
    "print(f'Los nombres de los archivos en la carpeta son: {nombres_archivos}')"
   ]
  },
  {
   "cell_type": "code",
   "execution_count": 16,
   "metadata": {},
   "outputs": [
    {
     "data": {
      "text/plain": [
       "'jueves4.jpg'"
      ]
     },
     "execution_count": 16,
     "metadata": {},
     "output_type": "execute_result"
    }
   ],
   "source": [
    "import random\n",
    "def nombreImagenes(dia):\n",
    "    import os\n",
    "    carpeta =f'C:/Lautaro/Python-personal/Mastodon/TootMastodonLocal/img/{dia.capitalize()}'\n",
    "    nombres_archivos = os.listdir(carpeta)\n",
    "    return nombres_archivos\n",
    "nombreArchivos = nombreImagenes('Jueves')\n",
    "random.choice(nombreArchivos)"
   ]
  },
  {
   "cell_type": "code",
   "execution_count": 2,
   "metadata": {},
   "outputs": [],
   "source": [
    "import os\n",
    "from mastodon import Mastodon\n",
    "from dotenv import load_dotenv\n",
    "import asyncio\n",
    "\n",
    "load_dotenv()\n",
    "\n",
    "masto = Mastodon(\n",
    "    access_token = os.getenv(\"TOKEN\"),\n",
    "    api_base_url = \"https://masto.es\"\n",
    ")"
   ]
  },
  {
   "cell_type": "code",
   "execution_count": 3,
   "metadata": {},
   "outputs": [
    {
     "name": "stdout",
     "output_type": "stream",
     "text": [
      "#thicktrunktuesday #Fotomontag #startrekasong #Photomonday #Monday\n"
     ]
    }
   ],
   "source": [
    "def tendencias(n):\n",
    "    tendencias = []\n",
    "    cadena = '#'\n",
    "    for i in range(n):\n",
    "        tendencias.append(masto.trending_tags(limit=n)[i]['name'])\n",
    "    cadena += ' #'.join(tendencias)\n",
    "    return cadena\n",
    "print(tendencias(5))\n",
    "    \n"
   ]
  },
  {
   "cell_type": "markdown",
   "metadata": {},
   "source": []
  },
  {
   "cell_type": "code",
   "execution_count": 3,
   "metadata": {},
   "outputs": [
    {
     "name": "stdout",
     "output_type": "stream",
     "text": [
      "8\n"
     ]
    }
   ],
   "source": [
    "from datetime import datetime\n",
    "\n",
    "hora = datetime.now().hour\n",
    "if hora<11:\n",
    "    print(hora)\n",
    "else:\n",
    "    print('k lo pario')\n",
    "\n"
   ]
  },
  {
   "cell_type": "code",
   "execution_count": null,
   "metadata": {},
   "outputs": [],
   "source": []
  },
  {
   "cell_type": "markdown",
   "metadata": {},
   "source": []
  }
 ],
 "metadata": {
  "kernelspec": {
   "display_name": "Python 3",
   "language": "python",
   "name": "python3"
  },
  "language_info": {
   "codemirror_mode": {
    "name": "ipython",
    "version": 3
   },
   "file_extension": ".py",
   "mimetype": "text/x-python",
   "name": "python",
   "nbconvert_exporter": "python",
   "pygments_lexer": "ipython3",
   "version": "3.11.2"
  },
  "orig_nbformat": 4
 },
 "nbformat": 4,
 "nbformat_minor": 2
}
