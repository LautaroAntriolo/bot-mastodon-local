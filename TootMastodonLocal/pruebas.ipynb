{
 "cells": [
  {
   "cell_type": "code",
   "execution_count": 4,
   "metadata": {},
   "outputs": [
    {
     "name": "stdout",
     "output_type": "stream",
     "text": [
      "Hay 4 imágenes en la carpeta.\n"
     ]
    }
   ],
   "source": [
    "import os\n",
    "\n",
    "carpeta = 'C:\\Lautaro\\Python-personal\\Mastodon\\TootMastodonLocal\\img\\Martes'\n",
    "extensiones_permitidas = ('.jpg', '.jpeg', '.png', '.gif')\n",
    "\n",
    "cantidad_imagenes = len([nombre_archivo for nombre_archivo in os.listdir(carpeta)\n",
    "                        if nombre_archivo.endswith(extensiones_permitidas)])\n",
    "\n",
    "print(f'Hay {cantidad_imagenes} imágenes en la carpeta.')"
   ]
  },
  {
   "cell_type": "code",
   "execution_count": 5,
   "metadata": {},
   "outputs": [
    {
     "name": "stdout",
     "output_type": "stream",
     "text": [
      "Los nombres de los archivos en la carpeta son: ['martes1.jpg', 'martes2.jpg', 'martes3.jpg', 'martes4.jpeg']\n"
     ]
    }
   ],
   "source": [
    "import os\n",
    "\n",
    "carpeta = 'C:\\Lautaro\\Python-personal\\Mastodon\\TootMastodonLocal\\img\\Martes'\n",
    "\n",
    "nombres_archivos = os.listdir(carpeta)\n",
    "\n",
    "print(f'Los nombres de los archivos en la carpeta son: {nombres_archivos}')"
   ]
  },
  {
   "cell_type": "code",
   "execution_count": 16,
   "metadata": {},
   "outputs": [
    {
     "data": {
      "text/plain": [
       "'jueves4.jpg'"
      ]
     },
     "execution_count": 16,
     "metadata": {},
     "output_type": "execute_result"
    }
   ],
   "source": [
    "import random\n",
    "def nombreImagenes(dia):\n",
    "    import os\n",
    "    carpeta =f'C:/Lautaro/Python-personal/Mastodon/TootMastodonLocal/img/{dia.capitalize()}'\n",
    "    nombres_archivos = os.listdir(carpeta)\n",
    "    return nombres_archivos\n",
    "nombreArchivos = nombreImagenes('Jueves')\n",
    "random.choice(nombreArchivos)"
   ]
  }
 ],
 "metadata": {
  "kernelspec": {
   "display_name": "Python 3",
   "language": "python",
   "name": "python3"
  },
  "language_info": {
   "codemirror_mode": {
    "name": "ipython",
    "version": 3
   },
   "file_extension": ".py",
   "mimetype": "text/x-python",
   "name": "python",
   "nbconvert_exporter": "python",
   "pygments_lexer": "ipython3",
   "version": "3.11.2"
  },
  "orig_nbformat": 4
 },
 "nbformat": 4,
 "nbformat_minor": 2
}
